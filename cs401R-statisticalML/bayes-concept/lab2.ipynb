{
 "cells": [
  {
   "cell_type": "markdown",
   "metadata": {
    "collapsed": true
   },
   "source": [
    "Please enter a set of numbers:"
   ]
  },
  {
   "cell_type": "code",
   "execution_count": null,
   "metadata": {},
   "outputs": [],
   "source": [
    "data = input('Please enter a set of numbers: ')"
   ]
  },
  {
   "cell_type": "code",
   "execution_count": null,
   "metadata": {
    "collapsed": true
   },
   "outputs": [],
   "source": [
    "import matplotlib.pyplot as plt\n",
    "#%matplotlib inline\n",
    "import seaborn\n",
    "import numpy\n",
    "\n",
    "def graphThis(title, xlabel, xaxis, yaxis):\n",
    "    plt.rcdefaults()\n",
    "    fig, ax = plt.subplots()\n",
    "    \n",
    "    y_pos = numpy.arange(len(yaxis))\n",
    "    \n",
    "    ax.barh(y_pos, xaxis, align='center')\n",
    "    ax.set_yticks(y_pos)\n",
    "    ax.set_yticklabels(yaxis)\n",
    "    ax.invert_yaxis()  # labels read top-to-bottom\n",
    "    ax.set_xlabel(xlabel)\n",
    "    ax.set_title(title)\n",
    "\n",
    "    plt.show()\n",
    "    \n",
    "def graphBig(title, xlabel, ylabel, xaxis, yaxis):\n",
    "    plt.rcdefaults()\n",
    "    fig, ax = plt.subplots()\n",
    "    \n",
    "    x_pos = numpy.arange(len(xaxis))\n",
    "    x_pos = numpy.add(x_pos, 1)\n",
    "        \n",
    "    ax.bar(x_pos, xaxis, align='center')\n",
    "    ax.set_xlabel(xlabel)\n",
    "    ax.set_ylabel(ylabel)\n",
    "    ax.set_title(title)\n",
    "\n",
    "    plt.show()\n",
    "\n",
    "def isEven(num):\n",
    "    return not (num % 2)\n",
    "def isOdd(num):\n",
    "    return bool (num % 2)\n",
    "def isSquare(num):\n",
    "    return (numpy.sqrt(num) == int(numpy.sqrt(num)))\n",
    "def isMultOf(mult, num):\n",
    "    return not (num % mult)\n",
    "def endsIn(end, num):\n",
    "    return (end == (num % 10))\n",
    "def powerOf(base, num):\n",
    "    if num == 1:\n",
    "        return 0\n",
    "    while((num % base) == 0):\n",
    "        num /= base\n",
    "    return (num == 1)\n",
    "def inAll(num):\n",
    "    return ((num < 101) and (num > 0))\n",
    "def powPlus(num):\n",
    "    return ((num == 37) or powerOf(2,num))\n",
    "def powMinus(num):\n",
    "    return ((num != 32) and powerOf(2,num))\n",
    "def createConcepts():\n",
    "    concepts = []\n",
    "    concepts.append(set(filter(isEven, num_list)))\n",
    "    concepts.append(set(filter(isOdd, num_list)))\n",
    "    concepts.append(set(filter(isSquare, num_list)))\n",
    "    for i in range(3,11):\n",
    "        concepts.append(set(filter(lambda x: isMultOf(i,x), num_list)))\n",
    "    for j in range(1,10):\n",
    "        concepts.append(set(filter(lambda y: endsIn(j,y), num_list)))\n",
    "    for k in range(2,11):\n",
    "        concepts.append(set(filter(lambda z: powerOf(k,z),num_list)))\n",
    "    concepts.append(set(filter(inAll, num_list)))\n",
    "    concepts.append(set(filter(powPlus, num_list)))\n",
    "    concepts.append(set(filter(powMinus, num_list)))\n",
    "    return concepts"
   ]
  },
  {
   "cell_type": "code",
   "execution_count": null,
   "metadata": {
    "scrolled": false
   },
   "outputs": [],
   "source": [
    "num_list = range(1,101)\n",
    "labels = [\"even\",\"odd\",\"squares\",\"mult of 3\", \"mult of 4\",\"mult of 5\",\"mult of 6\",\"mult of 7\",\"mult of 8\"] + \\\n",
    "[\"mult of 9\", \"mult of 10\", \"ends in 1\", \"ends in 2\", \"ends in 3\", \"ends in 4\", \"ends in 5\", \"ends in 6\"] + \\\n",
    "[\"ends in 7\", \"ends in 8\", \"ends in 9\", \"powers of 2\", \"powers of 3\", \"powers of 4\", \"powers of 5\"] + \\\n",
    "[\"powers of 6\", \"powers of 7\", \"powers of 8\", \"powers of 9\", \"powers of 10\", \"all\", \"powers of 2 +{37}\"] + \\\n",
    "[\"powers of 2 - {32}\"]\n",
    "\n",
    "prior = numpy.ones(len(labels))\n",
    "prior[0] = 5\n",
    "prior[1] = 5\n",
    "prior[30] = .01\n",
    "prior[31] = .01\n",
    "prior = prior / numpy.sum(prior)\n",
    "\n",
    "graphThis('Prior', 'Probability', prior, labels)\n",
    "\n",
    "concepts = createConcepts()\n",
    "\n",
    "# likelihood graph calcs\n",
    "likelihood = numpy.zeros(len(labels))\n",
    "if type(data) is int:\n",
    "    for i in range(len(prior)):\n",
    "        likelihood[i] = (data in concepts[i]) / len(concepts[i])\n",
    "else:\n",
    "    for i in range(len(prior)):\n",
    "        likelihood[i] = (set(data) <= set(concepts[i])) / (len(concepts[i]) / len(data))\n",
    "            \n",
    "graphThis('Likelihood', 'Probability', likelihood, labels)\n",
    "\n",
    "# posterior graph calcs\n",
    "temp = numpy.multiply(prior, likelihood)\n",
    "posterior = numpy.multiply(temp, 1 / numpy.sum(temp))\n",
    "\n",
    "graphThis('Posterior', 'Probability', posterior, labels)\n",
    "\n",
    "# predictive graph calcs\n",
    "predictive = numpy.zeros(len(num_list))    \n",
    "for n in num_list:\n",
    "    for h in range(len(posterior)):\n",
    "        predictive[n-1] += ((n in concepts[h]) * posterior[h])\n",
    "\n",
    "graphBig('Posterior Predictive', 'Number', 'Probability', predictive, num_list)\n",
    "\n",
    "print('Most likely concept: '+labels[numpy.argmax(posterior)])\n"
   ]
  },
  {
   "cell_type": "code",
   "execution_count": null,
   "metadata": {
    "collapsed": true
   },
   "outputs": [],
   "source": []
  }
 ],
 "metadata": {
  "kernelspec": {
   "display_name": "Python 3",
   "language": "python",
   "name": "python3"
  },
  "language_info": {
   "codemirror_mode": {
    "name": "ipython",
    "version": 3
   },
   "file_extension": ".py",
   "mimetype": "text/x-python",
   "name": "python",
   "nbconvert_exporter": "python",
   "pygments_lexer": "ipython3",
   "version": "3.6.3"
  }
 },
 "nbformat": 4,
 "nbformat_minor": 2
}
