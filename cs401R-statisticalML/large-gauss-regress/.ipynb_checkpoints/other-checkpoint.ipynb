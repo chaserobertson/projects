{
 "cells": [
  {
   "cell_type": "code",
   "execution_count": null,
   "metadata": {
    "collapsed": true
   },
   "outputs": [],
   "source": [
    "import numpy\n",
    "import pandas\n",
    "import time\n",
    "\n",
    "start = time.time()\n",
    "# this is our training data\n",
    "data = pandas.read_csv( 'store_train.csv' )\n",
    " \n",
    "# these are what we need to make predictions for\n",
    "testd = pandas.read_csv( 'store_test.csv' )\n",
    " \n",
    "N = testd.shape[0]\n",
    "my_preds = numpy.zeros(( N, 1 ))\n",
    " \n",
    "for id in range( 0, N ):\n",
    " \n",
    "    # grab a data element one at a time\n",
    "    pval = testd.iloc[id]\n",
    "    sid = pval.Store\n",
    "    dow = pval.DayOfWeek\n",
    " \n",
    "    if dow == 7 or pval.Open == 0:\n",
    "        # stores are closed on Sunday.  Awesome!\n",
    "        my_preds[ id, 0 ] = 0\n",
    "    else:\n",
    "        # slurp out all data that matches Store and DayOfWeek\n",
    "        tmp = data[ (data.Store == sid ) & ( data.DayOfWeek == dow ) ]  # super inefficient.  Cache these!\n",
    "        my_preds[ id, 0 ] = numpy.mean( tmp.Sales )\n",
    " \n",
    "    # a little \"progress bar\"\n",
    "    print(\"%.2f (%d/%d)\" % ( (1.0*id)/(1.0*N), id, N ))\n",
    " \n",
    " \n",
    "sfile = open( 'mean_sub.csv', 'w' )\n",
    "sfile.write( '\"Id\",\"Sales\"\\n' )\n",
    "for id in range( 0, N ):\n",
    "    sfile.write( '%d,%.2f\\n' % ( id+1, my_preds[id] ) )  # add one for one-based indexing\n",
    "sfile.close()\n",
    "end = time.time()\n",
    "\n",
    "print('completed in %.2f minutes' % ((end-start)/60))"
   ]
  },
  {
   "cell_type": "code",
   "execution_count": null,
   "metadata": {
    "collapsed": true
   },
   "outputs": [],
   "source": []
  }
 ],
 "metadata": {
  "kernelspec": {
   "display_name": "Python 3",
   "language": "python",
   "name": "python3"
  },
  "language_info": {
   "codemirror_mode": {
    "name": "ipython",
    "version": 3
   },
   "file_extension": ".py",
   "mimetype": "text/x-python",
   "name": "python",
   "nbconvert_exporter": "python",
   "pygments_lexer": "ipython3",
   "version": "3.6.3"
  }
 },
 "nbformat": 4,
 "nbformat_minor": 2
}
