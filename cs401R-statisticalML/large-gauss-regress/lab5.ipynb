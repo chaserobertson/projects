{
 "cells": [
  {
   "cell_type": "code",
   "execution_count": 250,
   "metadata": {},
   "outputs": [
    {
     "data": {
      "image/png": "[encoded data removed]",
      "text/plain": [
       "<matplotlib.figure.Figure at 0x112ff6198>"
      ]
     },
     "metadata": {},
     "output_type": "display_data"
    }
   ],
   "source": [
    "import matplotlib.pyplot as plt\n",
    "import numpy\n",
    "import pandas\n",
    "import seaborn\n",
    "import random\n",
    "import time\n",
    "from datetime import datetime\n",
    "\n",
    "# number of landmarks to use\n",
    "m = 10\n",
    "# number of training data points (of 1,017,209)\n",
    "n = 1000\n",
    "# sigma squared parameter\n",
    "sigma = 1\n",
    "\n",
    "#kernel weights\n",
    "STORE = 0.6\n",
    "DATE = 0.1\n",
    "DOW = 0.6\n",
    "PROMO = 0.1\n",
    "STATE = 0.1\n",
    "SCHOOL = 0.1\n",
    "\n",
    "data = pandas.read_csv( 'store_train.csv', low_memory=False )\n",
    "data = data.sample( n=n, random_state=n )\n",
    "landmarks = data.sample( n=m, random_state=m )\n",
    "testd = pandas.read_csv( 'store_test.csv', low_memory=False )\n",
    "N = testd.shape[0]\n",
    "\n",
    "def store_kernel( xi, xj ):\n",
    "    return int(xi == xj) * STORE\n",
    "def date_kernel( xi, xj ):\n",
    "    x1 = datetime.strptime(xi, '%Y-%m-%d')\n",
    "    x2 = datetime.strptime(xj, '%Y-%m-%d')\n",
    "    dDay = 1 - (abs(x1.day - x2.day) / 31)\n",
    "    return (dDay * int(x1.month == x2.month)) * DATE\n",
    "def dow_kernel( xi, xj ):\n",
    "    return int(xi == xj) * DOW\n",
    "def promo_kernel( xi, xj ):\n",
    "    return int(xi == xj) * PROMO\n",
    "def state_holiday( xi, xj ):\n",
    "    return int(xi == xj) * STATE\n",
    "def school_holiday( xi, xj ):\n",
    "    return int(xi == xj) * SCHOOL\n",
    "\n",
    "def kernel( xi, xj ):\n",
    "    return store_kernel( xi.Store, xj.Store ) + \\\n",
    "            date_kernel( xi.Date, xj.Date ) + \\\n",
    "            dow_kernel( xi.DayOfWeek, xj.DayOfWeek )+ \\\n",
    "            promo_kernel( xi.Promo, xj.Promo ) + \\\n",
    "            state_holiday( xi.StateHoliday, xj.SchoolHoliday ) + \\\n",
    "            school_holiday( xi.SchoolHoliday, xj.SchoolHoliday )\n",
    "\n",
    "def plot(matrix):\n",
    "    ax = plt.subplot()\n",
    "    ax = seaborn.heatmap(matrix, cmap='jet', square=True)\n",
    "    ax.set_ylabel('index')\n",
    "    ax.set_xlabel('index')\n",
    "    ax.set_title('K matrix')\n",
    "    plt.show()\n",
    "    \n",
    "def mew(xt, lm, cache):\n",
    "    Ktm = numpy.zeros( (1, m) )\n",
    "    for i in range(m):\n",
    "        Ktm[0, i] = kernel(xt, lm.iloc[i])\n",
    "    return numpy.dot(Ktm, cache)\n",
    "\n",
    "\n",
    "# my attempt at vectorizing kernel functions\n",
    "\n",
    "# output rows match data points, output cols match point feature importance\n",
    "#def kernelMat( xi, xj ):\n",
    "#    out = numpy.zeros( (xi.shape[0], xj.shape[0]) ) # xj transpose columns\n",
    "#    print(xi.Store)\n",
    "#    print(xj.Store)\n",
    "#    out[:, 0] = numpy.where(xi.Store == xj.Store, 1, 0) # store number: store match is crucial\n",
    "#    out[:, 1] = numpy.ones(N) # dow: dow is crucial\n",
    "#    out[:, 2] = numpy.zeros(N) # date: no effect\n",
    "#    out[:, 3] = numpy.zeros(N) # sales: no cheating\n",
    "#    out[:, 4] = numpy.zeros(N) # customers: no cheating\n",
    "#    out[:, 5] = numpy.ones(N) # open: crucial\n",
    "#    out[:, 6] = numpy.zeros(N) # promo: no effect\n",
    "#    out[:, 7] = numpy.zeros(N) # state: no effect\n",
    "#    out[:, 8] = numpy.zeros(N) # school: no effect\n",
    "#    out[:, 9] = numpy.zeros(N) # id: ignore here, just for dimensions sake\n",
    "#    print(out)\n",
    "#    return out\n",
    "#            \n",
    "#def mewMat(xtMat, lm, cache):\n",
    "#    Ktm = kernelMat(xtMat, lm)\n",
    "#    return numpy.dot(Ktm, cache)\n",
    "\n",
    "# create and plot Kmm matrix\n",
    "K = numpy.zeros( (m,m) )\n",
    "for i in range(m):\n",
    "    for j in range(m):\n",
    "        K[i,j] = kernel( landmarks.iloc[i], landmarks.iloc[j] )\n",
    "plot(K)"
   ]
  },
  {
   "cell_type": "code",
   "execution_count": 251,
   "metadata": {},
   "outputs": [
    {
     "name": "stdout",
     "output_type": "stream",
     "text": [
      "cache completed in 0.08 minutes\n"
     ]
    }
   ],
   "source": [
    "start = time.time()\n",
    "Kmn = numpy.zeros( (m, n) )\n",
    "for i in range(m):\n",
    "    for j in range(n):\n",
    "        Kmn[i, j] = kernel( landmarks.iloc[i], data.iloc[j] )\n",
    "\n",
    "Kmm = numpy.zeros( (m, m) )\n",
    "for i in range(m):\n",
    "    for j in range(m):\n",
    "        Kmm[i, j] = kernel( landmarks.iloc[i], landmarks.iloc[j] )\n",
    "\n",
    "Y = numpy.zeros( (n, 1) )\n",
    "for i in range(n):\n",
    "    Y[i, 0] = data.iloc[i].Sales\n",
    "\n",
    "Kx = numpy.dot(Kmn, Kmn.T)\n",
    "Kinv = numpy.linalg.pinv(Kx + (numpy.power(sigma, 2) * Kmm))\n",
    "cache = numpy.dot(Kinv, numpy.dot( Kmn, Y))\n",
    "end = time.time()\n",
    "print('cache completed in %.2f minutes' % ((end-start) / 60) )"
   ]
  },
  {
   "cell_type": "code",
   "execution_count": 252,
   "metadata": {},
   "outputs": [
    {
     "name": "stdout",
     "output_type": "stream",
     "text": [
      "predictions completed in 2.06 minutes\n"
     ]
    }
   ],
   "source": [
    "preds = numpy.zeros(( N, 1 ))\n",
    "\n",
    "start = time.time()\n",
    "for i in range(N):\n",
    "    inst = testd.iloc[i]\n",
    "    if inst.DayOfWeek == 7 or inst.Open == 0:\n",
    "        preds[ i, 0 ] = 0\n",
    "    else:\n",
    "        preds[ i, 0 ] = mew(inst, landmarks, cache)\n",
    "\n",
    "# match shape of landmarks and test data\n",
    "#if testd.shape[1] != landmarks.shape[1]:\n",
    "#    landmarks = landmarks.drop(labels=['Sales', 'Customers'], axis=1)\n",
    "#    landmarks['Id'] = range(0, m, 1)\n",
    "#preds = mewMat(testd, landmarks, cache)\n",
    "\n",
    "sfile = open( 'sub.csv', 'w' )\n",
    "sfile.write( '\"Id\",\"Sales\"\\n' )\n",
    "for i in range(N):\n",
    "    sfile.write( '%d,%.2f\\n' % ( i+1, preds[i] ) )  # add one for one-based indexing\n",
    "sfile.close()\n",
    "end = time.time()\n",
    "print('predictions completed in %.2f minutes' % ((end-start) / 60) )"
   ]
  },
  {
   "cell_type": "code",
   "execution_count": 253,
   "metadata": {},
   "outputs": [
    {
     "name": "stdout",
     "output_type": "stream",
     "text": [
      "Rossmann MSE: 0.36812\n",
      "Public ranking: 2968\n"
     ]
    }
   ],
   "source": [
    "print('Rossmann MSE: 0.36812')\n",
    "print('Public ranking: 2968')"
   ]
  },
  {
   "cell_type": "code",
   "execution_count": null,
   "metadata": {
    "collapsed": true
   },
   "outputs": [],
   "source": []
  }
 ],
 "metadata": {
  "kernelspec": {
   "display_name": "Python 3",
   "language": "python",
   "name": "python3"
  },
  "language_info": {
   "codemirror_mode": {
    "name": "ipython",
    "version": 3
   },
   "file_extension": ".py",
   "mimetype": "text/x-python",
   "name": "python",
   "nbconvert_exporter": "python",
   "pygments_lexer": "ipython3",
   "version": "3.6.3"
  }
 },
 "nbformat": 4,
 "nbformat_minor": 2
}
